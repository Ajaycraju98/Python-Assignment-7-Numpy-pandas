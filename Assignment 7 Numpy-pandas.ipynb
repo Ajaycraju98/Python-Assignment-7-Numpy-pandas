{
 "cells": [
  {
   "cell_type": "markdown",
   "id": "688919fe-4928-440c-91d8-47a2c45e629c",
   "metadata": {},
   "source": [
    "#Exercise 1:Create a numpy array containing the numbers from 1 to 10, and then reshape it to a 2x5 matrix"
   ]
  },
  {
   "cell_type": "code",
   "execution_count": 69,
   "id": "b3194908-2a79-48e3-a2a2-34672a23066a",
   "metadata": {},
   "outputs": [
    {
     "name": "stdout",
     "output_type": "stream",
     "text": [
      "[ 1  2  3  4  5  6  7  8  9 10]\n",
      "[[ 1  2  3  4  5]\n",
      " [ 6  7  8  9 10]]\n",
      "(2, 5)\n"
     ]
    }
   ],
   "source": [
    "import numpy as np\n",
    "a1=np.array([1,2,3,4,5,6,7,8,9,10])\n",
    "print(a1)\n",
    "new_array=a1.reshape(2,5)                   #reshape \n",
    "print(new_array)\n",
    "print(new_array.shape)"
   ]
  },
  {
   "cell_type": "markdown",
   "id": "bf690e27-829c-41b9-860c-05f7f1ac3b7d",
   "metadata": {},
   "source": [
    "#Exercise 2:Create a numpy array containing the numbers from 1 to 20, and then extract the elements between the 5th and 15th index. "
   ]
  },
  {
   "cell_type": "code",
   "execution_count": 71,
   "id": "04d9890e-816d-4b28-86bf-0c238d50c70e",
   "metadata": {},
   "outputs": [
    {
     "data": {
      "text/plain": [
       "(array([ 1,  2,  3,  4,  5,  6,  7,  8,  9, 10, 11, 12, 13, 14, 15, 16, 17,\n",
       "        18, 19, 20]),\n",
       " array([ 6,  7,  8,  9, 10, 11, 12, 13, 14, 15]))"
      ]
     },
     "execution_count": 71,
     "metadata": {},
     "output_type": "execute_result"
    }
   ],
   "source": [
    "array = np.arange(1, 21)\n",
    "array\n",
    "extracted_elements = array[5:15]\n",
    "array, extracted_elements"
   ]
  },
  {
   "cell_type": "markdown",
   "id": "9258fc03-bb3f-43aa-9bb9-733ac36fd0d2",
   "metadata": {},
   "source": [
    "Exercise 3:Create a Pandas series with the following data: \n",
    "{'apples': 3, 'bananas': 2, 'oranges': 1}. Then, add a new item to the series with the key 'pears' and the value 4."
   ]
  },
  {
   "cell_type": "code",
   "execution_count": 73,
   "id": "e89f0752-c52a-4efb-b168-a7eef6d37989",
   "metadata": {},
   "outputs": [
    {
     "name": "stdout",
     "output_type": "stream",
     "text": [
      "apples     3\n",
      "bananas    2\n",
      "oranges    1\n",
      "dtype: int64\n"
     ]
    },
    {
     "data": {
      "text/plain": [
       "apples     3\n",
       "bananas    2\n",
       "oranges    1\n",
       "pears      4\n",
       "dtype: int64"
      ]
     },
     "execution_count": 73,
     "metadata": {},
     "output_type": "execute_result"
    }
   ],
   "source": [
    "import pandas as pd \n",
    "fruits = pd.Series({'apples': 3, 'bananas': 2, 'oranges': 1})\n",
    "print(fruits)\n",
    "# Adding a new item 'pears' with the value 4\n",
    "fruits['pears'] = 4\n",
    "fruits"
   ]
  },
  {
   "cell_type": "markdown",
   "id": "db99ce0f-2248-4982-b6b7-8734b17f67f7",
   "metadata": {},
   "source": [
    "#Exercise 4:Create a dataframe with the following columns: name, age, and gender. The dataframe should have 10 rows of data. "
   ]
  },
  {
   "cell_type": "code",
   "execution_count": 91,
   "id": "198d65a2-e682-4ad9-b5aa-3e62c607cdf6",
   "metadata": {},
   "outputs": [
    {
     "data": {
      "text/html": [
       "<div>\n",
       "<style scoped>\n",
       "    .dataframe tbody tr th:only-of-type {\n",
       "        vertical-align: middle;\n",
       "    }\n",
       "\n",
       "    .dataframe tbody tr th {\n",
       "        vertical-align: top;\n",
       "    }\n",
       "\n",
       "    .dataframe thead th {\n",
       "        text-align: right;\n",
       "    }\n",
       "</style>\n",
       "<table border=\"1\" class=\"dataframe\">\n",
       "  <thead>\n",
       "    <tr style=\"text-align: right;\">\n",
       "      <th></th>\n",
       "      <th>name</th>\n",
       "      <th>age</th>\n",
       "      <th>gender</th>\n",
       "    </tr>\n",
       "  </thead>\n",
       "  <tbody>\n",
       "    <tr>\n",
       "      <th>1</th>\n",
       "      <td>ajay</td>\n",
       "      <td>26</td>\n",
       "      <td>male</td>\n",
       "    </tr>\n",
       "    <tr>\n",
       "      <th>2</th>\n",
       "      <td>arun</td>\n",
       "      <td>25</td>\n",
       "      <td>male</td>\n",
       "    </tr>\n",
       "    <tr>\n",
       "      <th>3</th>\n",
       "      <td>sruthi</td>\n",
       "      <td>24</td>\n",
       "      <td>female</td>\n",
       "    </tr>\n",
       "    <tr>\n",
       "      <th>4</th>\n",
       "      <td>renju</td>\n",
       "      <td>30</td>\n",
       "      <td>male</td>\n",
       "    </tr>\n",
       "    <tr>\n",
       "      <th>5</th>\n",
       "      <td>afsal</td>\n",
       "      <td>45</td>\n",
       "      <td>male</td>\n",
       "    </tr>\n",
       "    <tr>\n",
       "      <th>6</th>\n",
       "      <td>sabith</td>\n",
       "      <td>25</td>\n",
       "      <td>male</td>\n",
       "    </tr>\n",
       "    <tr>\n",
       "      <th>7</th>\n",
       "      <td>jennifer</td>\n",
       "      <td>35</td>\n",
       "      <td>female</td>\n",
       "    </tr>\n",
       "    <tr>\n",
       "      <th>8</th>\n",
       "      <td>akash</td>\n",
       "      <td>25</td>\n",
       "      <td>male</td>\n",
       "    </tr>\n",
       "    <tr>\n",
       "      <th>9</th>\n",
       "      <td>kiran</td>\n",
       "      <td>24</td>\n",
       "      <td>male</td>\n",
       "    </tr>\n",
       "    <tr>\n",
       "      <th>10</th>\n",
       "      <td>vidhya</td>\n",
       "      <td>29</td>\n",
       "      <td>female</td>\n",
       "    </tr>\n",
       "  </tbody>\n",
       "</table>\n",
       "</div>"
      ],
      "text/plain": [
       "        name  age  gender\n",
       "1       ajay   26    male\n",
       "2       arun   25    male\n",
       "3     sruthi   24  female\n",
       "4      renju   30    male\n",
       "5      afsal   45    male\n",
       "6     sabith   25    male\n",
       "7   jennifer   35  female\n",
       "8      akash   25    male\n",
       "9      kiran   24    male\n",
       "10    vidhya   29  female"
      ]
     },
     "execution_count": 91,
     "metadata": {},
     "output_type": "execute_result"
    }
   ],
   "source": [
    "import pandas as pd\n",
    "import numpy as np\n",
    "\n",
    "details= pd.DataFrame({\n",
    "    'name': [\"ajay\",\"arun\",\"sruthi\",\"renju\",\"afsal\",\"sabith\",\"jennifer\",\"akash\",\"kiran\",\"vidhya\"],\n",
    "    'age': [26,25,24,30,45,25,35,25,24,29],\n",
    "    'gender':[\"male\",\"male\",\"female\",\"male\",\"male\",\"male\",\"female\",\"male\",\"male\",\"female\"]\n",
    "    },columns=['name','age','gender'])\n",
    "\n",
    "details.index=[1,2,3,4,5,6,7,8,9,10]\n",
    "details"
   ]
  },
  {
   "cell_type": "markdown",
   "id": "0994aa02-0d82-4a64-8cb3-4fa543fb005d",
   "metadata": {},
   "source": [
    "#Exercise 5:Add a new column to the data frame created in question 1, called occupation. \n",
    "The values for this column should be Programmer, Manager, and Analyst, corresponding to the rows in the dataframe."
   ]
  },
  {
   "cell_type": "code",
   "execution_count": 93,
   "id": "f5277846-0d3e-476b-b30a-63093b7ae462",
   "metadata": {},
   "outputs": [
    {
     "data": {
      "text/html": [
       "<div>\n",
       "<style scoped>\n",
       "    .dataframe tbody tr th:only-of-type {\n",
       "        vertical-align: middle;\n",
       "    }\n",
       "\n",
       "    .dataframe tbody tr th {\n",
       "        vertical-align: top;\n",
       "    }\n",
       "\n",
       "    .dataframe thead th {\n",
       "        text-align: right;\n",
       "    }\n",
       "</style>\n",
       "<table border=\"1\" class=\"dataframe\">\n",
       "  <thead>\n",
       "    <tr style=\"text-align: right;\">\n",
       "      <th></th>\n",
       "      <th>name</th>\n",
       "      <th>age</th>\n",
       "      <th>gender</th>\n",
       "      <th>Occupation</th>\n",
       "    </tr>\n",
       "  </thead>\n",
       "  <tbody>\n",
       "    <tr>\n",
       "      <th>1</th>\n",
       "      <td>ajay</td>\n",
       "      <td>26</td>\n",
       "      <td>male</td>\n",
       "      <td>Programmer</td>\n",
       "    </tr>\n",
       "    <tr>\n",
       "      <th>2</th>\n",
       "      <td>arun</td>\n",
       "      <td>25</td>\n",
       "      <td>male</td>\n",
       "      <td>Manager</td>\n",
       "    </tr>\n",
       "    <tr>\n",
       "      <th>3</th>\n",
       "      <td>sruthi</td>\n",
       "      <td>24</td>\n",
       "      <td>female</td>\n",
       "      <td>Analyst</td>\n",
       "    </tr>\n",
       "    <tr>\n",
       "      <th>4</th>\n",
       "      <td>renju</td>\n",
       "      <td>30</td>\n",
       "      <td>male</td>\n",
       "      <td>Developer</td>\n",
       "    </tr>\n",
       "    <tr>\n",
       "      <th>5</th>\n",
       "      <td>afsal</td>\n",
       "      <td>45</td>\n",
       "      <td>male</td>\n",
       "      <td>Senior analyst</td>\n",
       "    </tr>\n",
       "    <tr>\n",
       "      <th>6</th>\n",
       "      <td>sabith</td>\n",
       "      <td>25</td>\n",
       "      <td>male</td>\n",
       "      <td>Marketing manager</td>\n",
       "    </tr>\n",
       "    <tr>\n",
       "      <th>7</th>\n",
       "      <td>jennifer</td>\n",
       "      <td>35</td>\n",
       "      <td>female</td>\n",
       "      <td>Junior developer</td>\n",
       "    </tr>\n",
       "    <tr>\n",
       "      <th>8</th>\n",
       "      <td>akash</td>\n",
       "      <td>25</td>\n",
       "      <td>male</td>\n",
       "      <td>Programmer</td>\n",
       "    </tr>\n",
       "    <tr>\n",
       "      <th>9</th>\n",
       "      <td>kiran</td>\n",
       "      <td>24</td>\n",
       "      <td>male</td>\n",
       "      <td>System analyst</td>\n",
       "    </tr>\n",
       "    <tr>\n",
       "      <th>10</th>\n",
       "      <td>vidhya</td>\n",
       "      <td>29</td>\n",
       "      <td>female</td>\n",
       "      <td>Business analyst</td>\n",
       "    </tr>\n",
       "  </tbody>\n",
       "</table>\n",
       "</div>"
      ],
      "text/plain": [
       "        name  age  gender         Occupation\n",
       "1       ajay   26    male         Programmer\n",
       "2       arun   25    male            Manager\n",
       "3     sruthi   24  female            Analyst\n",
       "4      renju   30    male          Developer\n",
       "5      afsal   45    male     Senior analyst\n",
       "6     sabith   25    male  Marketing manager\n",
       "7   jennifer   35  female   Junior developer\n",
       "8      akash   25    male         Programmer\n",
       "9      kiran   24    male     System analyst\n",
       "10    vidhya   29  female   Business analyst"
      ]
     },
     "execution_count": 93,
     "metadata": {},
     "output_type": "execute_result"
    }
   ],
   "source": [
    "details[\"Occupation\"] = [\"Programmer\", \"Manager\", \"Analyst\",\"Developer\",\"Senior analyst\",\n",
    "                         \"Marketing manager\",\"Junior developer\",\"Programmer\",\"System analyst\",\"Business analyst\"]\n",
    "details"
   ]
  },
  {
   "cell_type": "markdown",
   "id": "69fd9da7-5076-40ec-a34c-c817bc75acf8",
   "metadata": {},
   "source": [
    "#Exercise 6: Select the rows of the dataframe where the age is greater than or equal to 30. \n"
   ]
  },
  {
   "cell_type": "code",
   "execution_count": 95,
   "id": "64caf7a4-9274-4721-80c5-3c2654ad72e5",
   "metadata": {},
   "outputs": [
    {
     "data": {
      "text/plain": [
       "1     False\n",
       "2     False\n",
       "3     False\n",
       "4      True\n",
       "5      True\n",
       "6     False\n",
       "7      True\n",
       "8     False\n",
       "9     False\n",
       "10    False\n",
       "Name: age, dtype: bool"
      ]
     },
     "execution_count": 95,
     "metadata": {},
     "output_type": "execute_result"
    }
   ],
   "source": [
    "details[\"age\"]>=30"
   ]
  },
  {
   "cell_type": "markdown",
   "id": "ce147848-967a-42f1-9349-cedac0979952",
   "metadata": {},
   "source": [
    "#Exercise 7:Convert this dataframe to a csv file and read that csv file, finally display the contents."
   ]
  },
  {
   "cell_type": "code",
   "execution_count": 132,
   "id": "d9254d9d-723d-4072-9ddc-4993054b74aa",
   "metadata": {},
   "outputs": [],
   "source": [
    "details.to_csv(\"final_details.csv\")\n",
    "\n",
    "data=pd.read_csv(\"final_details.csv\")"
   ]
  },
  {
   "cell_type": "code",
   "execution_count": 134,
   "id": "b99e8b3d-270a-4092-9649-071c3b3f679a",
   "metadata": {},
   "outputs": [
    {
     "data": {
      "text/html": [
       "<div>\n",
       "<style scoped>\n",
       "    .dataframe tbody tr th:only-of-type {\n",
       "        vertical-align: middle;\n",
       "    }\n",
       "\n",
       "    .dataframe tbody tr th {\n",
       "        vertical-align: top;\n",
       "    }\n",
       "\n",
       "    .dataframe thead th {\n",
       "        text-align: right;\n",
       "    }\n",
       "</style>\n",
       "<table border=\"1\" class=\"dataframe\">\n",
       "  <thead>\n",
       "    <tr style=\"text-align: right;\">\n",
       "      <th></th>\n",
       "      <th>name</th>\n",
       "      <th>age</th>\n",
       "      <th>gender</th>\n",
       "      <th>Occupation</th>\n",
       "    </tr>\n",
       "  </thead>\n",
       "  <tbody>\n",
       "    <tr>\n",
       "      <th>1</th>\n",
       "      <td>ajay</td>\n",
       "      <td>26</td>\n",
       "      <td>male</td>\n",
       "      <td>Programmer</td>\n",
       "    </tr>\n",
       "    <tr>\n",
       "      <th>2</th>\n",
       "      <td>arun</td>\n",
       "      <td>25</td>\n",
       "      <td>male</td>\n",
       "      <td>Manager</td>\n",
       "    </tr>\n",
       "    <tr>\n",
       "      <th>3</th>\n",
       "      <td>sruthi</td>\n",
       "      <td>24</td>\n",
       "      <td>female</td>\n",
       "      <td>Analyst</td>\n",
       "    </tr>\n",
       "    <tr>\n",
       "      <th>4</th>\n",
       "      <td>renju</td>\n",
       "      <td>30</td>\n",
       "      <td>male</td>\n",
       "      <td>Developer</td>\n",
       "    </tr>\n",
       "    <tr>\n",
       "      <th>5</th>\n",
       "      <td>afsal</td>\n",
       "      <td>45</td>\n",
       "      <td>male</td>\n",
       "      <td>Senior analyst</td>\n",
       "    </tr>\n",
       "    <tr>\n",
       "      <th>6</th>\n",
       "      <td>sabith</td>\n",
       "      <td>25</td>\n",
       "      <td>male</td>\n",
       "      <td>Marketing manager</td>\n",
       "    </tr>\n",
       "    <tr>\n",
       "      <th>7</th>\n",
       "      <td>jennifer</td>\n",
       "      <td>35</td>\n",
       "      <td>female</td>\n",
       "      <td>Junior developer</td>\n",
       "    </tr>\n",
       "    <tr>\n",
       "      <th>8</th>\n",
       "      <td>akash</td>\n",
       "      <td>25</td>\n",
       "      <td>male</td>\n",
       "      <td>Programmer</td>\n",
       "    </tr>\n",
       "    <tr>\n",
       "      <th>9</th>\n",
       "      <td>kiran</td>\n",
       "      <td>24</td>\n",
       "      <td>male</td>\n",
       "      <td>System analyst</td>\n",
       "    </tr>\n",
       "    <tr>\n",
       "      <th>10</th>\n",
       "      <td>vidhya</td>\n",
       "      <td>29</td>\n",
       "      <td>female</td>\n",
       "      <td>Business analyst</td>\n",
       "    </tr>\n",
       "  </tbody>\n",
       "</table>\n",
       "</div>"
      ],
      "text/plain": [
       "        name  age  gender         Occupation\n",
       "1       ajay   26    male         Programmer\n",
       "2       arun   25    male            Manager\n",
       "3     sruthi   24  female            Analyst\n",
       "4      renju   30    male          Developer\n",
       "5      afsal   45    male     Senior analyst\n",
       "6     sabith   25    male  Marketing manager\n",
       "7   jennifer   35  female   Junior developer\n",
       "8      akash   25    male         Programmer\n",
       "9      kiran   24    male     System analyst\n",
       "10    vidhya   29  female   Business analyst"
      ]
     },
     "execution_count": 134,
     "metadata": {},
     "output_type": "execute_result"
    }
   ],
   "source": [
    "details"
   ]
  },
  {
   "cell_type": "code",
   "execution_count": null,
   "id": "7ed6b73d-1606-4179-ade3-5213b98ab5da",
   "metadata": {},
   "outputs": [],
   "source": []
  }
 ],
 "metadata": {
  "kernelspec": {
   "display_name": "Python 3 (ipykernel)",
   "language": "python",
   "name": "python3"
  },
  "language_info": {
   "codemirror_mode": {
    "name": "ipython",
    "version": 3
   },
   "file_extension": ".py",
   "mimetype": "text/x-python",
   "name": "python",
   "nbconvert_exporter": "python",
   "pygments_lexer": "ipython3",
   "version": "3.12.7"
  }
 },
 "nbformat": 4,
 "nbformat_minor": 5
}
